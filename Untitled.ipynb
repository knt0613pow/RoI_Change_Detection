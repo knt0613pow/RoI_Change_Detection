{
 "cells": [
  {
   "cell_type": "code",
   "execution_count": 2,
   "metadata": {},
   "outputs": [
    {
     "name": "stdout",
     "output_type": "stream",
     "text": [
      "\r\n",
      "CommandNotFoundError: Your shell has not been properly configured to use 'conda activate'.\r\n",
      "To initialize your shell, run\r\n",
      "\r\n",
      "    $ conda init <SHELL_NAME>\r\n",
      "\r\n",
      "Currently supported shells are:\r\n",
      "  - bash\r\n",
      "  - fish\r\n",
      "  - tcsh\r\n",
      "  - xonsh\r\n",
      "  - zsh\r\n",
      "  - powershell\r\n",
      "\r\n",
      "See 'conda init --help' for more information and options.\r\n",
      "\r\n",
      "IMPORTANT: You may need to close and restart your shell after running 'conda init'.\r\n",
      "\r\n",
      "\r\n"
     ]
    },
    {
     "ename": "ModuleNotFoundError",
     "evalue": "No module named 'torch'",
     "output_type": "error",
     "traceback": [
      "\u001b[0;31m-------------------------------------------\u001b[0m",
      "\u001b[0;31mModuleNotFoundError\u001b[0mTraceback (most recent call last)",
      "\u001b[0;32m<ipython-input-2-cfa1e1879b9b>\u001b[0m in \u001b[0;36m<module>\u001b[0;34m()\u001b[0m\n\u001b[1;32m      1\u001b[0m \u001b[0mget_ipython\u001b[0m\u001b[0;34m(\u001b[0m\u001b[0;34m)\u001b[0m\u001b[0;34m.\u001b[0m\u001b[0msystem\u001b[0m\u001b[0;34m(\u001b[0m\u001b[0;34m'conda activate BCDD'\u001b[0m\u001b[0;34m)\u001b[0m\u001b[0;34m\u001b[0m\u001b[0;34m\u001b[0m\u001b[0m\n\u001b[0;32m----> 2\u001b[0;31m \u001b[0;32mimport\u001b[0m \u001b[0mtorch\u001b[0m\u001b[0;34m\u001b[0m\u001b[0;34m\u001b[0m\u001b[0m\n\u001b[0m\u001b[1;32m      3\u001b[0m \u001b[0;32mimport\u001b[0m \u001b[0mpygmtools\u001b[0m \u001b[0;32mas\u001b[0m \u001b[0mpygm\u001b[0m\u001b[0;34m\u001b[0m\u001b[0;34m\u001b[0m\u001b[0m\n\u001b[1;32m      4\u001b[0m \u001b[0;32mimport\u001b[0m \u001b[0mpickle\u001b[0m\u001b[0;34m\u001b[0m\u001b[0;34m\u001b[0m\u001b[0m\n\u001b[1;32m      5\u001b[0m \u001b[0;34m\u001b[0m\u001b[0m\n",
      "\u001b[0;31mModuleNotFoundError\u001b[0m: No module named 'torch'"
     ]
    }
   ],
   "source": [
    "!conda activate BCDD\n",
    "import torch\n",
    "import pygmtools as pygm\n",
    "import pickle\n",
    "\n",
    "pygm.BACKEND = 'pytorch'\n",
    "_ = torch.manual_seed(1)\n",
    "\n",
    "relation_path = 'data/dorim_road/relation.pkl'\n",
    "data = pd.read_pickle(relation_path)\n"
   ]
  },
  {
   "cell_type": "code",
   "execution_count": null,
   "metadata": {},
   "outputs": [],
   "source": [
    "# Generate a batch of isomorphic graphs\n",
    "batch_size = 10\n",
    "X_gt = torch.zeros(batch_size, 4, 4)\n",
    "X_gt[:, torch.arange(0, 4, dtype=torch.int64), torch.randperm(4)] = 1\n",
    "A1 = torch.rand(batch_size, 4, 4)\n",
    "A2 = torch.bmm(torch.bmm(X_gt.transpose(1, 2), A1), X_gt)\n",
    "n1 = torch.tensor([4] * batch_size)\n",
    "n2 = torch.tensor([4] * batch_size)\n",
    "\n",
    "# Build affinity matrix\n",
    "conn1, edge1, ne1 = pygm.utils.dense_to_sparse(A1)\n",
    "conn2, edge2, ne2 = pygm.utils.dense_to_sparse(A2)\n",
    "import functools\n",
    "gaussian_aff = functools.partial(pygm.utils.gaussian_aff_fn, sigma=1.) # set affinity function\n",
    "K = pygm.utils.build_aff_mat(None, edge1, conn1, None, edge2, conn2, n1, None, n2, None, edge_aff_fn=gaussian_aff)\n",
    "\n",
    "# Solve by IPFP\n",
    "X = pygm.ipfp(K, n1, n2)\n",
    "X[0]\n",
    "tensor([[0., 1., 0., 0.],\n",
    "        [0., 0., 0., 1.],\n",
    "        [0., 0., 1., 0.],\n",
    "        [1., 0., 0., 0.]])\n",
    "\n",
    "# Accuracy\n",
    "(pygm.hungarian(X) * X_gt).sum() / X_gt.sum()\n",
    "tensor(1.)"
   ]
  }
 ],
 "metadata": {
  "kernelspec": {
   "display_name": "Python 3",
   "language": "python",
   "name": "python3"
  },
  "language_info": {
   "codemirror_mode": {
    "name": "ipython",
    "version": 3
   },
   "file_extension": ".py",
   "mimetype": "text/x-python",
   "name": "python",
   "nbconvert_exporter": "python",
   "pygments_lexer": "ipython3",
   "version": "3.6.9"
  }
 },
 "nbformat": 4,
 "nbformat_minor": 2
}
